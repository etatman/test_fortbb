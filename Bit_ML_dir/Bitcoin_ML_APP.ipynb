{
  "nbformat": 4,
  "nbformat_minor": 0,
  "metadata": {
    "colab": {
      "name": "Bitcoin ML APP",
      "provenance": [],
      "collapsed_sections": []
    },
    "kernelspec": {
      "name": "python3",
      "display_name": "Python 3"
    }
  },
  "cells": [
    {
      "cell_type": "markdown",
      "metadata": {
        "id": "ducQ2WOmAaxh"
      },
      "source": [
        "This ML App takes historical Bitcoin data to predict if you should buy or sell shares of Bitcoin. This App provides you with five graphs that support it's decision to buy or sell. The first graph shows the raw data in four lines one for Open, High, Low, and Close. The second shows the rata data after it has been reshaped through a log function. The third graph shows the data that the model was trained on in blue, the applicaiton's predictions in black, and the test data in red for the price of Bitcoin at Close. The Fourth graph is a focused display of the previous graph at were the test and prediction data split. The fifth graph places the applications prediction line on top of the raw data.\n",
        "\n",
        "Currently, while the actual coin outpreformed the model's prediction, the applicaiton still reccomended buying more Bitcoin which would have been the best move at that time. This app could be imporved by furthur breaking the model down into smaller time differentials such as quarters or weeks to give the user more information.\n",
        "\n",
        "This data is taken from coinmarketcap."
      ]
    },
    {
      "cell_type": "code",
      "metadata": {
        "id": "qtbF06meQTdi"
      },
      "source": [
        "#from google.colab import files\n",
        "#uploaded = files.upload()"
      ],
      "execution_count": 1,
      "outputs": []
    },
    {
      "cell_type": "code",
      "metadata": {
        "id": "gM500PZN1Upg",
        "colab": {
          "base_uri": "https://localhost:8080/",
          "height": 380
        },
        "outputId": "e04ac38e-b81a-40ad-dbad-441264640d0a"
      },
      "source": [
        "import pandas as pd\n",
        "import io\n",
        "\n",
        "url = 'https://raw.github.iu.edu/etatman/E222/master/bitcoin_price_1week_Test%20-%20Test.csv?token=AAADWLB7O5KRSXZ4QZPVI7LAKDLPK'\n",
        "B_test = pd.read_csv(url)\n",
        "\n",
        "\n"
      ],
      "execution_count": 2,
      "outputs": [
        {
          "output_type": "error",
          "ename": "HTTPError",
          "evalue": "ignored",
          "traceback": [
            "\u001b[0;31m---------------------------------------------------------------------------\u001b[0m",
            "\u001b[0;31mHTTPError\u001b[0m                                 Traceback (most recent call last)",
            "\u001b[0;32m<ipython-input-2-2ebdb86065a4>\u001b[0m in \u001b[0;36m<module>\u001b[0;34m()\u001b[0m\n\u001b[1;32m      3\u001b[0m \u001b[0;34m\u001b[0m\u001b[0m\n\u001b[1;32m      4\u001b[0m \u001b[0murl\u001b[0m \u001b[0;34m=\u001b[0m \u001b[0;34m'https://raw.github.iu.edu/etatman/E222/master/bitcoin_price_1week_Test%20-%20Test.csv?token=AAADWLB7O5KRSXZ4QZPVI7LAKDLPK'\u001b[0m\u001b[0;34m\u001b[0m\u001b[0;34m\u001b[0m\u001b[0m\n\u001b[0;32m----> 5\u001b[0;31m \u001b[0mB_test\u001b[0m \u001b[0;34m=\u001b[0m \u001b[0mpd\u001b[0m\u001b[0;34m.\u001b[0m\u001b[0mread_csv\u001b[0m\u001b[0;34m(\u001b[0m\u001b[0murl\u001b[0m\u001b[0;34m)\u001b[0m\u001b[0;34m\u001b[0m\u001b[0;34m\u001b[0m\u001b[0m\n\u001b[0m\u001b[1;32m      6\u001b[0m \u001b[0;34m\u001b[0m\u001b[0m\n\u001b[1;32m      7\u001b[0m \u001b[0;34m\u001b[0m\u001b[0m\n",
            "\u001b[0;32m/usr/local/lib/python3.7/dist-packages/pandas/io/parsers.py\u001b[0m in \u001b[0;36mread_csv\u001b[0;34m(filepath_or_buffer, sep, delimiter, header, names, index_col, usecols, squeeze, prefix, mangle_dupe_cols, dtype, engine, converters, true_values, false_values, skipinitialspace, skiprows, skipfooter, nrows, na_values, keep_default_na, na_filter, verbose, skip_blank_lines, parse_dates, infer_datetime_format, keep_date_col, date_parser, dayfirst, cache_dates, iterator, chunksize, compression, thousands, decimal, lineterminator, quotechar, quoting, doublequote, escapechar, comment, encoding, dialect, error_bad_lines, warn_bad_lines, delim_whitespace, low_memory, memory_map, float_precision)\u001b[0m\n\u001b[1;32m    686\u001b[0m     )\n\u001b[1;32m    687\u001b[0m \u001b[0;34m\u001b[0m\u001b[0m\n\u001b[0;32m--> 688\u001b[0;31m     \u001b[0;32mreturn\u001b[0m \u001b[0m_read\u001b[0m\u001b[0;34m(\u001b[0m\u001b[0mfilepath_or_buffer\u001b[0m\u001b[0;34m,\u001b[0m \u001b[0mkwds\u001b[0m\u001b[0;34m)\u001b[0m\u001b[0;34m\u001b[0m\u001b[0;34m\u001b[0m\u001b[0m\n\u001b[0m\u001b[1;32m    689\u001b[0m \u001b[0;34m\u001b[0m\u001b[0m\n\u001b[1;32m    690\u001b[0m \u001b[0;34m\u001b[0m\u001b[0m\n",
            "\u001b[0;32m/usr/local/lib/python3.7/dist-packages/pandas/io/parsers.py\u001b[0m in \u001b[0;36m_read\u001b[0;34m(filepath_or_buffer, kwds)\u001b[0m\n\u001b[1;32m    435\u001b[0m     \u001b[0;31m# See https://github.com/python/mypy/issues/1297\u001b[0m\u001b[0;34m\u001b[0m\u001b[0;34m\u001b[0m\u001b[0;34m\u001b[0m\u001b[0m\n\u001b[1;32m    436\u001b[0m     fp_or_buf, _, compression, should_close = get_filepath_or_buffer(\n\u001b[0;32m--> 437\u001b[0;31m         \u001b[0mfilepath_or_buffer\u001b[0m\u001b[0;34m,\u001b[0m \u001b[0mencoding\u001b[0m\u001b[0;34m,\u001b[0m \u001b[0mcompression\u001b[0m\u001b[0;34m\u001b[0m\u001b[0;34m\u001b[0m\u001b[0m\n\u001b[0m\u001b[1;32m    438\u001b[0m     )\n\u001b[1;32m    439\u001b[0m     \u001b[0mkwds\u001b[0m\u001b[0;34m[\u001b[0m\u001b[0;34m\"compression\"\u001b[0m\u001b[0;34m]\u001b[0m \u001b[0;34m=\u001b[0m \u001b[0mcompression\u001b[0m\u001b[0;34m\u001b[0m\u001b[0;34m\u001b[0m\u001b[0m\n",
            "\u001b[0;32m/usr/local/lib/python3.7/dist-packages/pandas/io/common.py\u001b[0m in \u001b[0;36mget_filepath_or_buffer\u001b[0;34m(filepath_or_buffer, encoding, compression, mode, storage_options)\u001b[0m\n\u001b[1;32m    181\u001b[0m     \u001b[0;32mif\u001b[0m \u001b[0misinstance\u001b[0m\u001b[0;34m(\u001b[0m\u001b[0mfilepath_or_buffer\u001b[0m\u001b[0;34m,\u001b[0m \u001b[0mstr\u001b[0m\u001b[0;34m)\u001b[0m \u001b[0;32mand\u001b[0m \u001b[0mis_url\u001b[0m\u001b[0;34m(\u001b[0m\u001b[0mfilepath_or_buffer\u001b[0m\u001b[0;34m)\u001b[0m\u001b[0;34m:\u001b[0m\u001b[0;34m\u001b[0m\u001b[0;34m\u001b[0m\u001b[0m\n\u001b[1;32m    182\u001b[0m         \u001b[0;31m# TODO: fsspec can also handle HTTP via requests, but leaving this unchanged\u001b[0m\u001b[0;34m\u001b[0m\u001b[0;34m\u001b[0m\u001b[0;34m\u001b[0m\u001b[0m\n\u001b[0;32m--> 183\u001b[0;31m         \u001b[0mreq\u001b[0m \u001b[0;34m=\u001b[0m \u001b[0murlopen\u001b[0m\u001b[0;34m(\u001b[0m\u001b[0mfilepath_or_buffer\u001b[0m\u001b[0;34m)\u001b[0m\u001b[0;34m\u001b[0m\u001b[0;34m\u001b[0m\u001b[0m\n\u001b[0m\u001b[1;32m    184\u001b[0m         \u001b[0mcontent_encoding\u001b[0m \u001b[0;34m=\u001b[0m \u001b[0mreq\u001b[0m\u001b[0;34m.\u001b[0m\u001b[0mheaders\u001b[0m\u001b[0;34m.\u001b[0m\u001b[0mget\u001b[0m\u001b[0;34m(\u001b[0m\u001b[0;34m\"Content-Encoding\"\u001b[0m\u001b[0;34m,\u001b[0m \u001b[0;32mNone\u001b[0m\u001b[0;34m)\u001b[0m\u001b[0;34m\u001b[0m\u001b[0;34m\u001b[0m\u001b[0m\n\u001b[1;32m    185\u001b[0m         \u001b[0;32mif\u001b[0m \u001b[0mcontent_encoding\u001b[0m \u001b[0;34m==\u001b[0m \u001b[0;34m\"gzip\"\u001b[0m\u001b[0;34m:\u001b[0m\u001b[0;34m\u001b[0m\u001b[0;34m\u001b[0m\u001b[0m\n",
            "\u001b[0;32m/usr/local/lib/python3.7/dist-packages/pandas/io/common.py\u001b[0m in \u001b[0;36murlopen\u001b[0;34m(*args, **kwargs)\u001b[0m\n\u001b[1;32m    135\u001b[0m     \u001b[0;32mimport\u001b[0m \u001b[0murllib\u001b[0m\u001b[0;34m.\u001b[0m\u001b[0mrequest\u001b[0m\u001b[0;34m\u001b[0m\u001b[0;34m\u001b[0m\u001b[0m\n\u001b[1;32m    136\u001b[0m \u001b[0;34m\u001b[0m\u001b[0m\n\u001b[0;32m--> 137\u001b[0;31m     \u001b[0;32mreturn\u001b[0m \u001b[0murllib\u001b[0m\u001b[0;34m.\u001b[0m\u001b[0mrequest\u001b[0m\u001b[0;34m.\u001b[0m\u001b[0murlopen\u001b[0m\u001b[0;34m(\u001b[0m\u001b[0;34m*\u001b[0m\u001b[0margs\u001b[0m\u001b[0;34m,\u001b[0m \u001b[0;34m**\u001b[0m\u001b[0mkwargs\u001b[0m\u001b[0;34m)\u001b[0m\u001b[0;34m\u001b[0m\u001b[0;34m\u001b[0m\u001b[0m\n\u001b[0m\u001b[1;32m    138\u001b[0m \u001b[0;34m\u001b[0m\u001b[0m\n\u001b[1;32m    139\u001b[0m \u001b[0;34m\u001b[0m\u001b[0m\n",
            "\u001b[0;32m/usr/lib/python3.7/urllib/request.py\u001b[0m in \u001b[0;36murlopen\u001b[0;34m(url, data, timeout, cafile, capath, cadefault, context)\u001b[0m\n\u001b[1;32m    220\u001b[0m     \u001b[0;32melse\u001b[0m\u001b[0;34m:\u001b[0m\u001b[0;34m\u001b[0m\u001b[0;34m\u001b[0m\u001b[0m\n\u001b[1;32m    221\u001b[0m         \u001b[0mopener\u001b[0m \u001b[0;34m=\u001b[0m \u001b[0m_opener\u001b[0m\u001b[0;34m\u001b[0m\u001b[0;34m\u001b[0m\u001b[0m\n\u001b[0;32m--> 222\u001b[0;31m     \u001b[0;32mreturn\u001b[0m \u001b[0mopener\u001b[0m\u001b[0;34m.\u001b[0m\u001b[0mopen\u001b[0m\u001b[0;34m(\u001b[0m\u001b[0murl\u001b[0m\u001b[0;34m,\u001b[0m \u001b[0mdata\u001b[0m\u001b[0;34m,\u001b[0m \u001b[0mtimeout\u001b[0m\u001b[0;34m)\u001b[0m\u001b[0;34m\u001b[0m\u001b[0;34m\u001b[0m\u001b[0m\n\u001b[0m\u001b[1;32m    223\u001b[0m \u001b[0;34m\u001b[0m\u001b[0m\n\u001b[1;32m    224\u001b[0m \u001b[0;32mdef\u001b[0m \u001b[0minstall_opener\u001b[0m\u001b[0;34m(\u001b[0m\u001b[0mopener\u001b[0m\u001b[0;34m)\u001b[0m\u001b[0;34m:\u001b[0m\u001b[0;34m\u001b[0m\u001b[0;34m\u001b[0m\u001b[0m\n",
            "\u001b[0;32m/usr/lib/python3.7/urllib/request.py\u001b[0m in \u001b[0;36mopen\u001b[0;34m(self, fullurl, data, timeout)\u001b[0m\n\u001b[1;32m    529\u001b[0m         \u001b[0;32mfor\u001b[0m \u001b[0mprocessor\u001b[0m \u001b[0;32min\u001b[0m \u001b[0mself\u001b[0m\u001b[0;34m.\u001b[0m\u001b[0mprocess_response\u001b[0m\u001b[0;34m.\u001b[0m\u001b[0mget\u001b[0m\u001b[0;34m(\u001b[0m\u001b[0mprotocol\u001b[0m\u001b[0;34m,\u001b[0m \u001b[0;34m[\u001b[0m\u001b[0;34m]\u001b[0m\u001b[0;34m)\u001b[0m\u001b[0;34m:\u001b[0m\u001b[0;34m\u001b[0m\u001b[0;34m\u001b[0m\u001b[0m\n\u001b[1;32m    530\u001b[0m             \u001b[0mmeth\u001b[0m \u001b[0;34m=\u001b[0m \u001b[0mgetattr\u001b[0m\u001b[0;34m(\u001b[0m\u001b[0mprocessor\u001b[0m\u001b[0;34m,\u001b[0m \u001b[0mmeth_name\u001b[0m\u001b[0;34m)\u001b[0m\u001b[0;34m\u001b[0m\u001b[0;34m\u001b[0m\u001b[0m\n\u001b[0;32m--> 531\u001b[0;31m             \u001b[0mresponse\u001b[0m \u001b[0;34m=\u001b[0m \u001b[0mmeth\u001b[0m\u001b[0;34m(\u001b[0m\u001b[0mreq\u001b[0m\u001b[0;34m,\u001b[0m \u001b[0mresponse\u001b[0m\u001b[0;34m)\u001b[0m\u001b[0;34m\u001b[0m\u001b[0;34m\u001b[0m\u001b[0m\n\u001b[0m\u001b[1;32m    532\u001b[0m \u001b[0;34m\u001b[0m\u001b[0m\n\u001b[1;32m    533\u001b[0m         \u001b[0;32mreturn\u001b[0m \u001b[0mresponse\u001b[0m\u001b[0;34m\u001b[0m\u001b[0;34m\u001b[0m\u001b[0m\n",
            "\u001b[0;32m/usr/lib/python3.7/urllib/request.py\u001b[0m in \u001b[0;36mhttp_response\u001b[0;34m(self, request, response)\u001b[0m\n\u001b[1;32m    639\u001b[0m         \u001b[0;32mif\u001b[0m \u001b[0;32mnot\u001b[0m \u001b[0;34m(\u001b[0m\u001b[0;36m200\u001b[0m \u001b[0;34m<=\u001b[0m \u001b[0mcode\u001b[0m \u001b[0;34m<\u001b[0m \u001b[0;36m300\u001b[0m\u001b[0;34m)\u001b[0m\u001b[0;34m:\u001b[0m\u001b[0;34m\u001b[0m\u001b[0;34m\u001b[0m\u001b[0m\n\u001b[1;32m    640\u001b[0m             response = self.parent.error(\n\u001b[0;32m--> 641\u001b[0;31m                 'http', request, response, code, msg, hdrs)\n\u001b[0m\u001b[1;32m    642\u001b[0m \u001b[0;34m\u001b[0m\u001b[0m\n\u001b[1;32m    643\u001b[0m         \u001b[0;32mreturn\u001b[0m \u001b[0mresponse\u001b[0m\u001b[0;34m\u001b[0m\u001b[0;34m\u001b[0m\u001b[0m\n",
            "\u001b[0;32m/usr/lib/python3.7/urllib/request.py\u001b[0m in \u001b[0;36merror\u001b[0;34m(self, proto, *args)\u001b[0m\n\u001b[1;32m    567\u001b[0m         \u001b[0;32mif\u001b[0m \u001b[0mhttp_err\u001b[0m\u001b[0;34m:\u001b[0m\u001b[0;34m\u001b[0m\u001b[0;34m\u001b[0m\u001b[0m\n\u001b[1;32m    568\u001b[0m             \u001b[0margs\u001b[0m \u001b[0;34m=\u001b[0m \u001b[0;34m(\u001b[0m\u001b[0mdict\u001b[0m\u001b[0;34m,\u001b[0m \u001b[0;34m'default'\u001b[0m\u001b[0;34m,\u001b[0m \u001b[0;34m'http_error_default'\u001b[0m\u001b[0;34m)\u001b[0m \u001b[0;34m+\u001b[0m \u001b[0morig_args\u001b[0m\u001b[0;34m\u001b[0m\u001b[0;34m\u001b[0m\u001b[0m\n\u001b[0;32m--> 569\u001b[0;31m             \u001b[0;32mreturn\u001b[0m \u001b[0mself\u001b[0m\u001b[0;34m.\u001b[0m\u001b[0m_call_chain\u001b[0m\u001b[0;34m(\u001b[0m\u001b[0;34m*\u001b[0m\u001b[0margs\u001b[0m\u001b[0;34m)\u001b[0m\u001b[0;34m\u001b[0m\u001b[0;34m\u001b[0m\u001b[0m\n\u001b[0m\u001b[1;32m    570\u001b[0m \u001b[0;34m\u001b[0m\u001b[0m\n\u001b[1;32m    571\u001b[0m \u001b[0;31m# XXX probably also want an abstract factory that knows when it makes\u001b[0m\u001b[0;34m\u001b[0m\u001b[0;34m\u001b[0m\u001b[0;34m\u001b[0m\u001b[0m\n",
            "\u001b[0;32m/usr/lib/python3.7/urllib/request.py\u001b[0m in \u001b[0;36m_call_chain\u001b[0;34m(self, chain, kind, meth_name, *args)\u001b[0m\n\u001b[1;32m    501\u001b[0m         \u001b[0;32mfor\u001b[0m \u001b[0mhandler\u001b[0m \u001b[0;32min\u001b[0m \u001b[0mhandlers\u001b[0m\u001b[0;34m:\u001b[0m\u001b[0;34m\u001b[0m\u001b[0;34m\u001b[0m\u001b[0m\n\u001b[1;32m    502\u001b[0m             \u001b[0mfunc\u001b[0m \u001b[0;34m=\u001b[0m \u001b[0mgetattr\u001b[0m\u001b[0;34m(\u001b[0m\u001b[0mhandler\u001b[0m\u001b[0;34m,\u001b[0m \u001b[0mmeth_name\u001b[0m\u001b[0;34m)\u001b[0m\u001b[0;34m\u001b[0m\u001b[0;34m\u001b[0m\u001b[0m\n\u001b[0;32m--> 503\u001b[0;31m             \u001b[0mresult\u001b[0m \u001b[0;34m=\u001b[0m \u001b[0mfunc\u001b[0m\u001b[0;34m(\u001b[0m\u001b[0;34m*\u001b[0m\u001b[0margs\u001b[0m\u001b[0;34m)\u001b[0m\u001b[0;34m\u001b[0m\u001b[0;34m\u001b[0m\u001b[0m\n\u001b[0m\u001b[1;32m    504\u001b[0m             \u001b[0;32mif\u001b[0m \u001b[0mresult\u001b[0m \u001b[0;32mis\u001b[0m \u001b[0;32mnot\u001b[0m \u001b[0;32mNone\u001b[0m\u001b[0;34m:\u001b[0m\u001b[0;34m\u001b[0m\u001b[0;34m\u001b[0m\u001b[0m\n\u001b[1;32m    505\u001b[0m                 \u001b[0;32mreturn\u001b[0m \u001b[0mresult\u001b[0m\u001b[0;34m\u001b[0m\u001b[0;34m\u001b[0m\u001b[0m\n",
            "\u001b[0;32m/usr/lib/python3.7/urllib/request.py\u001b[0m in \u001b[0;36mhttp_error_default\u001b[0;34m(self, req, fp, code, msg, hdrs)\u001b[0m\n\u001b[1;32m    647\u001b[0m \u001b[0;32mclass\u001b[0m \u001b[0mHTTPDefaultErrorHandler\u001b[0m\u001b[0;34m(\u001b[0m\u001b[0mBaseHandler\u001b[0m\u001b[0;34m)\u001b[0m\u001b[0;34m:\u001b[0m\u001b[0;34m\u001b[0m\u001b[0;34m\u001b[0m\u001b[0m\n\u001b[1;32m    648\u001b[0m     \u001b[0;32mdef\u001b[0m \u001b[0mhttp_error_default\u001b[0m\u001b[0;34m(\u001b[0m\u001b[0mself\u001b[0m\u001b[0;34m,\u001b[0m \u001b[0mreq\u001b[0m\u001b[0;34m,\u001b[0m \u001b[0mfp\u001b[0m\u001b[0;34m,\u001b[0m \u001b[0mcode\u001b[0m\u001b[0;34m,\u001b[0m \u001b[0mmsg\u001b[0m\u001b[0;34m,\u001b[0m \u001b[0mhdrs\u001b[0m\u001b[0;34m)\u001b[0m\u001b[0;34m:\u001b[0m\u001b[0;34m\u001b[0m\u001b[0;34m\u001b[0m\u001b[0m\n\u001b[0;32m--> 649\u001b[0;31m         \u001b[0;32mraise\u001b[0m \u001b[0mHTTPError\u001b[0m\u001b[0;34m(\u001b[0m\u001b[0mreq\u001b[0m\u001b[0;34m.\u001b[0m\u001b[0mfull_url\u001b[0m\u001b[0;34m,\u001b[0m \u001b[0mcode\u001b[0m\u001b[0;34m,\u001b[0m \u001b[0mmsg\u001b[0m\u001b[0;34m,\u001b[0m \u001b[0mhdrs\u001b[0m\u001b[0;34m,\u001b[0m \u001b[0mfp\u001b[0m\u001b[0;34m)\u001b[0m\u001b[0;34m\u001b[0m\u001b[0;34m\u001b[0m\u001b[0m\n\u001b[0m\u001b[1;32m    650\u001b[0m \u001b[0;34m\u001b[0m\u001b[0m\n\u001b[1;32m    651\u001b[0m \u001b[0;32mclass\u001b[0m \u001b[0mHTTPRedirectHandler\u001b[0m\u001b[0;34m(\u001b[0m\u001b[0mBaseHandler\u001b[0m\u001b[0;34m)\u001b[0m\u001b[0;34m:\u001b[0m\u001b[0;34m\u001b[0m\u001b[0;34m\u001b[0m\u001b[0m\n",
            "\u001b[0;31mHTTPError\u001b[0m: HTTP Error 404: Not Found"
          ]
        }
      ]
    },
    {
      "cell_type": "code",
      "metadata": {
        "id": "6L_7cqjB1xQE"
      },
      "source": [
        "url = 'https://raw.github.iu.edu/etatman/E222/master/bitcoin_price_Training%20-%20Training.csv?token=AAADWLFOM4DFILM27BP7PR3AKDLRI'\n",
        "B_train = pd.read_csv(url)\n"
      ],
      "execution_count": null,
      "outputs": []
    },
    {
      "cell_type": "code",
      "metadata": {
        "id": "AampPCYQQqNz"
      },
      "source": [
        "\n",
        "#"
      ],
      "execution_count": null,
      "outputs": []
    },
    {
      "cell_type": "code",
      "metadata": {
        "id": "RkTYtci6RG8q"
      },
      "source": [
        "#from google.colab import files\n",
        "#uploaded = files.upload()"
      ],
      "execution_count": null,
      "outputs": []
    },
    {
      "cell_type": "code",
      "metadata": {
        "id": "0ABG2F19RL8U"
      },
      "source": [
        "#B_test = pd.read_csv(io.BytesIO(uploaded['bitcoin_price_1week_Test - Test.csv']))"
      ],
      "execution_count": null,
      "outputs": []
    },
    {
      "cell_type": "code",
      "metadata": {
        "id": "C9xOXL2VUbVe"
      },
      "source": [
        "#B_test"
      ],
      "execution_count": null,
      "outputs": []
    },
    {
      "cell_type": "code",
      "metadata": {
        "id": "0AMFBDZFXkBL"
      },
      "source": [
        "B_test['Date'] = pd.to_datetime(B_test['Date'])\n",
        "#B_test"
      ],
      "execution_count": null,
      "outputs": []
    },
    {
      "cell_type": "code",
      "metadata": {
        "id": "pW_KCx74bUAm"
      },
      "source": [
        "B_train['Date'] = pd.to_datetime(B_train['Date'])"
      ],
      "execution_count": null,
      "outputs": []
    },
    {
      "cell_type": "code",
      "metadata": {
        "id": "0IipbpEJaZGG"
      },
      "source": [
        "#B_train.shape\n",
        "#B_train\n",
        "\n",
        "\n"
      ],
      "execution_count": null,
      "outputs": []
    },
    {
      "cell_type": "code",
      "metadata": {
        "id": "X8w4BUjTdt3N"
      },
      "source": [
        "#B_test.shape"
      ],
      "execution_count": null,
      "outputs": []
    },
    {
      "cell_type": "code",
      "metadata": {
        "id": "2yzcWosddmjE"
      },
      "source": [
        "#B_train.describe()\n"
      ],
      "execution_count": null,
      "outputs": []
    },
    {
      "cell_type": "code",
      "metadata": {
        "id": "gTDjEdPUdpp-"
      },
      "source": [
        "#B_test.describe()"
      ],
      "execution_count": null,
      "outputs": []
    },
    {
      "cell_type": "code",
      "metadata": {
        "id": "rcxRLGtGd0-G"
      },
      "source": [
        "import matplotlib.pyplot as plt\n",
        "\n",
        "#B_train.plot(x='Open', y='Close', style='x')  \n",
        "#plt.title('Open vs Close')  \n",
        "#plt.xlabel('Open')  \n",
        "#plt.ylabel('Close')  \n",
        "#plt.show()"
      ],
      "execution_count": null,
      "outputs": []
    },
    {
      "cell_type": "code",
      "metadata": {
        "id": "VhF3G3jQeJHo"
      },
      "source": [
        "import seaborn as sb\n",
        "#sb.distplot(B_train['Open'],kde=True)"
      ],
      "execution_count": null,
      "outputs": []
    },
    {
      "cell_type": "code",
      "metadata": {
        "id": "MGq-dKiZfF9B"
      },
      "source": [
        "#sb.distplot(B_train['Close'],kde=True)"
      ],
      "execution_count": null,
      "outputs": []
    },
    {
      "cell_type": "code",
      "metadata": {
        "id": "LFfZsgELh60S"
      },
      "source": [
        "#B_train.size"
      ],
      "execution_count": null,
      "outputs": []
    },
    {
      "cell_type": "code",
      "metadata": {
        "id": "jKwR_pJIjLrL"
      },
      "source": [
        "#B_train\n",
        "#x_int = x.is_integer()\n",
        "#print(x)\n",
        "#Open = B_train['Open']\n",
        "#Open = int(Open)"
      ],
      "execution_count": null,
      "outputs": []
    },
    {
      "cell_type": "code",
      "metadata": {
        "id": "ErO-WmUofXlc"
      },
      "source": [
        "from sklearn.metrics import mean_squared_error, r2_score\n",
        "\n",
        "x_tr = B_train['Open'].values.reshape(-1,1)\n",
        "y_tr = B_train['Close'].values.reshape(-1,1)\n",
        "x_ts = B_test['Open'].values.reshape(-1,1)\n",
        "y_ts = B_test['Close'].values.reshape(-1,1)\n",
        "#from sklearn.model_selection import train_test_split\n",
        "#split = 0.2 ; \n",
        "\n",
        "#x_train, x_test, y_train, y_test = train_test_split(x, y, test_size=split, random_state=0)\n",
        "\n",
        "from sklearn.linear_model import LinearRegression\n",
        "\n",
        "lin_reg = LinearRegression()\n",
        "my_mdl = lin_reg.fit(x_tr,y_tr)\n",
        "\n",
        "#intercept\n",
        "#print(my_mdl.intercept_)\n",
        "#slope\n",
        "#print(my_mdl.coef_)\n"
      ],
      "execution_count": null,
      "outputs": []
    },
    {
      "cell_type": "code",
      "metadata": {
        "id": "g448bQHI3rQ9"
      },
      "source": [
        "my_pred = lin_reg.predict(x_ts)\n",
        "\n",
        "testdf = pd.DataFrame({'Actual': y_ts.flatten(), 'Predicted': my_pred.flatten()})\n",
        "#testdf"
      ],
      "execution_count": null,
      "outputs": []
    },
    {
      "cell_type": "code",
      "metadata": {
        "id": "zfTGnd6w38bB"
      },
      "source": [
        "import numpy as np\n",
        "\n",
        "Y_predict = np.zeros( len(y_ts) ); \n",
        "n = 0; \n",
        "for x in x_ts:\n",
        "    Y_predict[n] = lin_reg.predict( [x] ); \n",
        "    n += 1; \n",
        "    \n",
        "\n",
        "y_min = np.min( y_ts ); \n",
        "y_max = np.max( y_ts ); \n",
        "\n",
        "#plt.figure(Linear Regression) \n",
        "#plt.plot( Y_predict, y_ts , 'bo' );\n",
        "  \n",
        "#plt.plot( [y_min,y_max],[y_min,y_max],'r'); \n",
        "   \n",
        "#plt.xlabel('Predicted value',fontsize=20)\n",
        "#plt.ylabel('Actual value',fontsize=20)\n",
        "#plt.axis('image')\n"
      ],
      "execution_count": null,
      "outputs": []
    },
    {
      "cell_type": "code",
      "metadata": {
        "id": "t2G57lDk4Wza"
      },
      "source": [
        "from sklearn.metrics import mean_absolute_error\n",
        "\n",
        "mae = mean_absolute_error(y_ts, Y_predict)\n",
        "#print(\"Mean Absolute Error: \", mae)\n",
        "\n",
        "mse = mean_squared_error(y_ts, Y_predict)\n",
        "#print('Mean Squared Error: ', mse)\n",
        "\n",
        "rmse = np.sqrt(mean_squared_error(y_ts, Y_predict))\n",
        "#print('Root Mean Squared Error: ', rmse)\n",
        "\n",
        "r2 = r2_score(y_ts, Y_predict)\n",
        "#print('R2: ', r2)"
      ],
      "execution_count": null,
      "outputs": []
    },
    {
      "cell_type": "code",
      "metadata": {
        "id": "tAtCHzhkHLwV"
      },
      "source": [
        "B_train_flip = B_train.sort_index(axis=1 ,ascending=True)\n",
        "B_train_flip2 = B_train_flip.iloc[::-1]\n",
        "#B_train_flip = B_train[columns]\n",
        "#B_train_flip2 #had to flip the data from oldest to newest to predict future and not past"
      ],
      "execution_count": null,
      "outputs": []
    },
    {
      "cell_type": "code",
      "metadata": {
        "id": "x_-s5X26CFEK"
      },
      "source": [
        "plt.rcParams['figure.figsize'] = (25,25) \n",
        "plt.rcParams['lines.markersize'] = 5; \n",
        "T = np.linspace(0, 1556, 1556\t)\n",
        "plt.figure()# Raw Data\n",
        "plt.plot( T , B_train_flip2['Open'] , 'ro' , linestyle='solid')\n",
        "plt.plot( T, B_train_flip2['High'], 'bo' , linestyle='solid')\n",
        "plt.plot(T, B_train_flip2['Low'], 'go', linestyle='solid')\n",
        "plt.plot( T, B_train_flip2['Close'], 'ko' , linestyle='solid')\n",
        "plt.xlabel( 'Time (days)' , fontsize=25)\n",
        "plt.ylabel( 'Dollars (USD)' , fontsize=25) "
      ],
      "execution_count": null,
      "outputs": []
    },
    {
      "cell_type": "code",
      "metadata": {
        "id": "_Ogl70WVJa2q"
      },
      "source": [
        "logP1 = np.log(B_train_flip2['Open']);\n",
        "logP2 = np.log(B_train_flip2['High']);\n",
        "logP3 = np.log(B_train_flip2['Low']); \n",
        "logP4 = np.log(B_train_flip2['Close'])\n",
        "\n",
        "plt.figure()#Logistic Regression NOT Trained\n",
        "plt.plot( T , logP1 , 'ro' , linestyle='solid') ; \n",
        "plt.plot( T, logP2, 'bo' , linestyle='solid'); \n",
        "plt.plot( T, logP3, 'ko' , linestyle='solid') ;\n",
        "plt.plot(T, logP4,'go', linestyle='solid')\n",
        "plt.xlabel( 'Time (days)' , fontsize=25); \n",
        "plt.ylabel( 'Dollars (log scale)' , fontsize=25); "
      ],
      "execution_count": null,
      "outputs": []
    },
    {
      "cell_type": "code",
      "metadata": {
        "id": "3aoR_1FrKlyz"
      },
      "source": [
        "N = len(T);\n",
        "N_train = 1245\n",
        "T_train = T[0:N_train+1]\n",
        "logP1_train = logP1[0:N_train+1];\n",
        "logP2_train = logP2[0:N_train+1];\n",
        "logP3_train = logP3[0:N_train+1];\n",
        "logP4_train = logP4[0:N_train+1]\n",
        "\n",
        "T_test = T[N_train+1:N];\n",
        "logP1_test = logP1[N_train+1:N];\n",
        "logP2_test = logP2[N_train+1:N];\n",
        "logP3_test = logP3[N_train+1:N];\n",
        "logP4_test = logP4[N_train+1:N]\n",
        "\n",
        "# import key sklearn functions \n",
        "from sklearn import linear_model "
      ],
      "execution_count": null,
      "outputs": []
    },
    {
      "cell_type": "code",
      "metadata": {
        "id": "kJrE-9GWK2pv"
      },
      "source": [
        "regr1 = linear_model.LinearRegression(); \n",
        "regr1.fit( T_train.reshape(-1,1) , logP1_train ); \n",
        "predictions1 = regr1.predict( T_test.reshape(-1,1) ); \n",
        "\n",
        "regr2 = linear_model.LinearRegression(); \n",
        "regr2.fit( T_train.reshape(-1,1) , logP2_train ); \n",
        "predictions2 = regr2.predict( T_test.reshape(-1,1) ); \n",
        "\n",
        "regr3 = linear_model.LinearRegression(); \n",
        "regr3.fit( T_train.reshape(-1,1) , logP3_train ); \n",
        "predictions3 = regr3.predict( T_test.reshape(-1,1) ); \n",
        "\n",
        "regr4 = linear_model.LinearRegression(); \n",
        "regr4.fit( T_train.reshape(-1,1) , logP4_train ); \n",
        "predictions4 = regr4.predict( T_test.reshape(-1,1) ); "
      ],
      "execution_count": null,
      "outputs": []
    },
    {
      "cell_type": "code",
      "metadata": {
        "id": "Ph6cIcNnLRC-"
      },
      "source": [
        "#plt.figure(4)\n",
        "#plt.plot( T_train, logP1_train, 'bo', markersize=15); \n",
        "#plt.plot( T_test, logP1_test ,'ro' , markersize=15 ) ; \n",
        "#plt.plot( T_test , predictions1, 'kP' , markersize=15 ) \n",
        "#plt.title( 'Open' ); plt.legend( ['train', 'test', 'predictions']); plt.show()\n",
        "\n",
        "\n",
        "#plt.figure(5)\n",
        "#plt.plot( T_train, logP2_train, 'bo' , markersize=15 ); \n",
        "#plt.plot( T_test, logP2_test ,'ro' , markersize=15 ) ; \n",
        "#plt.plot( T_test , predictions2, 'kP' , markersize=15 ) \n",
        "#plt.title( 'High' ); plt.legend( ['train', 'test', 'predictions']); plt.show()\n",
        "\n",
        "\n",
        "#plt.figure(6)\n",
        "#plt.plot( T_train, logP3_train, 'bo' , markersize=15 ); \n",
        "#plt.plot( T_test, logP3_test ,'ro' , markersize=15 ) ; \n",
        "#plt.plot( T_test , predictions3, 'kP' , markersize=15 ) \n",
        "#plt.title( 'Low' );plt.legend( ['train', 'test', 'predictions']); plt.show()\n",
        "\n",
        "\n",
        "plt.figure()#Logistic Regression Model\n",
        "plt.plot( T_train, logP4_train, 'bo' , markersize=15 ); \n",
        "plt.plot( T_test, logP4_test ,'ro' , markersize=15 ) ; \n",
        "plt.plot( T_test , predictions4, 'kP' , markersize=15 ) \n",
        "plt.title( 'Close' );plt.legend( ['train', 'test', 'predictions']); plt.show()"
      ],
      "execution_count": null,
      "outputs": []
    },
    {
      "cell_type": "code",
      "metadata": {
        "id": "aBTQyT6fLqF8"
      },
      "source": [
        "#set = np.concatenate( (logP1_test,predictions1) ); \n",
        "#m1 = min(set); m2 = max(set) ; \n",
        "#plt.figure(7); plt.clf()\n",
        "#plt.plot(predictions1, logP1_test , 'ro' , markersize=15); \n",
        "#plt.plot( [m1,m2],[m1,m2], 'k', linewidth=5);\n",
        "#plt.ylabel('Actual'); plt.xlabel('Predictions'); plt.show()\n",
        "\n",
        "\n",
        "#plt.figure(8); plt.clf(); \n",
        "#set = np.concatenate( (logP2_test,predictions2) ); \n",
        "#m1 = min(set); m2 = max(set) ; \n",
        "#plt.plot(predictions2, logP2_test, 'ro' , markersize=15); \n",
        "#plt.plot( [m1,m2],[m1,m2], 'k', linewidth=5);\n",
        "#plt.ylabel('Actual'); plt.xlabel('Predictions'); plt.show()\n",
        "\n",
        "\n",
        "#plt.figure(9); plt.clf()\n",
        "#set = np.concatenate( (logP3_test,predictions3) ); \n",
        "#m1 = min(set); m2 = max(set) ; \n",
        "#plt.plot( predictions3, logP3_test, 'ro' , markersize=15) ; \n",
        "#plt.plot( [m1,m2],[m1,m2], 'k', linewidth=5);\n",
        "#plt.ylabel('Actual'); plt.xlabel('Predictions'); plt.show()\n",
        "\n",
        "\n",
        "plt.figure() #Focused View of Prediction v. Test Data Split\n",
        "plt.clf()\n",
        "set = np.concatenate( (logP4_test,predictions4) ); \n",
        "m1 = min(set); m2 = max(set) ; \n",
        "plt.plot( predictions4, logP4_test, 'ro' , markersize=15) ; \n",
        "plt.plot( [m1,m2],[m1,m2], 'k', linewidth=5);\n",
        "plt.ylabel('Actual'); plt.xlabel('Predictions'); plt.show()"
      ],
      "execution_count": null,
      "outputs": []
    },
    {
      "cell_type": "code",
      "metadata": {
        "id": "YXwEeQi1CVRB"
      },
      "source": [
        "from sklearn.metrics import r2_score \n",
        "\n",
        "p1 = r2_score( logP1_test , predictions1 )\n",
        "#print( p1 )\n",
        "\n",
        "\n",
        "p2 = r2_score( logP2_test , predictions2 ) \n",
        "#print( p2 )\n",
        "\n",
        "\n",
        "p3 = r2_score( logP3_test , predictions3 ) \n",
        "#print( p3 )\n",
        "\n",
        "p4 = r2_score( logP4_test , predictions4 ) \n",
        "#print( p4 )"
      ],
      "execution_count": null,
      "outputs": []
    },
    {
      "cell_type": "code",
      "metadata": {
        "id": "3tI_rulGCkvE"
      },
      "source": [
        "#plt.rcParams['lines.markersize'] = 15 \n",
        "#plt.figure(10); plt.clf(); \n",
        "#plt.plot( T_train, np.exp(logP1_train), 'bo' ); \n",
        "#plt.plot( T_test, np.exp(logP1_test) ,'ro' ) ; \n",
        "#plt.plot( T_test , np.exp(predictions1), 'kP' ) \n",
        "#plt.title( 'Open' ); plt.legend(['train','test','predicted']); plt.show()\n",
        "\n",
        "\n",
        "#plt.figure(11); plt.clf(); \n",
        "#plt.plot( T_train, np.exp(logP2_train), 'bo' ); \n",
        "#plt.plot( T_test, np.exp(logP2_test),'ro' ) ; \n",
        "#plt.plot( T_test , np.exp(predictions2), 'kP' ) \n",
        "#plt.title( 'High' ); plt.legend(['train','test','predicted']);plt.show();\n",
        "\n",
        "\n",
        "#plt.figure(12); plt.clf(); \n",
        "#plt.plot( T_train, np.exp(logP3_train), 'bo' ); \n",
        "#plt.plot( T_test, np.exp(logP3_test),'ro' ) ; \n",
        "#plt.plot( T_test , np.exp(predictions3), 'kP' ) \n",
        "#plt.title( 'Low' ); plt.legend(['train','test','predicted']);  plt.show();\n",
        "\n",
        "\n",
        "plt.figure()#Predictions Compared to Actual Data\n",
        "plt.clf(); \n",
        "plt.plot( T_train, np.exp(logP4_train), 'bo' ); \n",
        "plt.plot( T_test, np.exp(logP4_test),'ro' ) ; \n",
        "plt.plot( T_test , np.exp(predictions4), 'kP' ) \n",
        "plt.title( 'Close' ); plt.legend(['train','test','predicted']);  plt.show();\n"
      ],
      "execution_count": null,
      "outputs": []
    },
    {
      "cell_type": "code",
      "metadata": {
        "id": "PATJPWQrCNPC"
      },
      "source": [
        "slope, intercept = np.polyfit(np.log(T_test), np.log(predictions4), 1)\n",
        "#print(slope)"
      ],
      "execution_count": null,
      "outputs": []
    },
    {
      "cell_type": "code",
      "metadata": {
        "id": "pmw4H5qECvq1"
      },
      "source": [
        "def output():\n",
        "  if slope <= 0:\n",
        "    print(\"Sell\")\n",
        "  else:\n",
        "    print(\"Buy\")\n",
        "\n",
        "output()"
      ],
      "execution_count": null,
      "outputs": []
    },
    {
      "cell_type": "code",
      "metadata": {
        "id": "tvUCwOOmj6bl"
      },
      "source": [
        "my_model = regr4.fit( T_train.reshape(-1,1) , logP4_train );\n",
        "from joblib import dump, load \n",
        "dump(my_model, 'Bitcoin_model.pkl')"
      ],
      "execution_count": null,
      "outputs": []
    }
  ]
}